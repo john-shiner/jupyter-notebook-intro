{
 "cells": [
  {
   "cell_type": "markdown",
   "metadata": {},
   "source": [
    "## Developing with a Jupyter Notebook"
   ]
  },
  {
   "cell_type": "markdown",
   "metadata": {},
   "source": [
    "* Markdown comments\n",
    "* Code blocks\n",
    "* Inserting raw blocks (for illustrating code)\n",
    "* Getting information about a module (modulename?)\n"
   ]
  },
  {
   "cell_type": "code",
   "execution_count": 2,
   "metadata": {
    "collapsed": false
   },
   "outputs": [],
   "source": [
    "\"\"\"\n",
    ">>> str(max(student_objects, key=attrgetter(\"gpa\")))\n",
    "'Jane Jpones: 3.9'\n",
    "\n",
    "\"\"\"\n",
    "\n",
    "class Student:\n",
    "\tdef __init__(self, name, major, gpa):\n",
    "\t\tself.name = name\n",
    "\t\tself.major = major\n",
    "\t\tself.gpa = gpa\n",
    "\n",
    "\tdef __repr__(self):\n",
    "\t\treturn f'{self.name}: {self.gpa}'\n",
    "\n",
    "\tdef get_gpa(self):\n",
    "\t\t\treturn self.gpa\n"
   ]
  },
  {
   "cell_type": "code",
   "execution_count": 8,
   "metadata": {
    "collapsed": true
   },
   "outputs": [],
   "source": [
    "Student?"
   ]
  },
  {
   "cell_type": "code",
   "execution_count": 3,
   "metadata": {
    "collapsed": false
   },
   "outputs": [
    {
     "data": {
      "text/plain": [
       "TestResults(failed=0, attempted=0)"
      ]
     },
     "execution_count": 3,
     "metadata": {},
     "output_type": "execute_result"
    }
   ],
   "source": [
    "student_objects = [\n",
    "\tStudent(\"Joe Smith\", \"physics\", 3.7),\n",
    "\tStudent(\"Jane Jones\", \"chemistry\", 3.9),\n",
    "\tStudent(\"Zoe Grimwald\", \"literature\", 3.8)\n",
    "\t]\n",
    "\n",
    "\n",
    "from operator import attrgetter\n",
    "# print(max(student_objects, key=attrgetter(\"gpa\")))\n",
    "\n",
    "# if __name__ == \"__main__\":\n",
    "import doctest\n",
    "doctest.testmod()\n",
    "\n",
    "print(\"Does not attempt because we are interactive\")"
   ]
  },
  {
   "cell_type": "code",
   "execution_count": 4,
   "metadata": {
    "collapsed": false
   },
   "outputs": [
    {
     "name": "stdout",
     "output_type": "stream",
     "text": [
      "[Joe Smith: 3.7, Zoe Grimwald: 3.8, Jane Jones: 3.9]\n"
     ]
    }
   ],
   "source": [
    "print(sorted(student_objects, key=Student.get_gpa))\n",
    "\n",
    "\n",
    "\n"
   ]
  },
  {
   "cell_type": "code",
   "execution_count": 5,
   "metadata": {
    "collapsed": false
   },
   "outputs": [
    {
     "name": "stdout",
     "output_type": "stream",
     "text": [
      "Joe Smith: 3.7\n"
     ]
    }
   ],
   "source": [
    "print(min(student_objects, key=Student.get_gpa))\n"
   ]
  },
  {
   "cell_type": "code",
   "execution_count": 6,
   "metadata": {
    "collapsed": false
   },
   "outputs": [
    {
     "name": "stdout",
     "output_type": "stream",
     "text": [
      "Jane Jones: 3.9\n"
     ]
    }
   ],
   "source": [
    "print(max(student_objects, key=Student.get_gpa))"
   ]
  },
  {
   "cell_type": "code",
   "execution_count": 7,
   "metadata": {
    "collapsed": false
   },
   "outputs": [
    {
     "name": "stdout",
     "output_type": "stream",
     "text": [
      "hello\n"
     ]
    }
   ],
   "source": [
    "print(\"hello\")\n",
    "\n"
   ]
  },
  {
   "cell_type": "code",
   "execution_count": null,
   "metadata": {
    "collapsed": true
   },
   "outputs": [],
   "source": []
  }
 ],
 "metadata": {
  "kernelspec": {
   "display_name": "Python 3",
   "language": "python",
   "name": "python3"
  },
  "language_info": {
   "codemirror_mode": {
    "name": "ipython",
    "version": 3
   },
   "file_extension": ".py",
   "mimetype": "text/x-python",
   "name": "python",
   "nbconvert_exporter": "python",
   "pygments_lexer": "ipython3",
   "version": "3.6.0"
  }
 },
 "nbformat": 4,
 "nbformat_minor": 2
}
